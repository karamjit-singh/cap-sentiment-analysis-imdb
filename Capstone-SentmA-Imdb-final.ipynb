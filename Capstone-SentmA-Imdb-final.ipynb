{
 "cells": [
  {
   "cell_type": "markdown",
   "metadata": {},
   "source": [
    "# Imports"
   ]
  },
  {
   "cell_type": "code",
   "execution_count": 7,
   "metadata": {},
   "outputs": [],
   "source": [
    "import os\n",
    "import random\n",
    "import pandas as pd\n",
    "from sklearn.svm import LinearSVC\n",
    "from sklearn.ensemble import RandomForestClassifier\n",
    "\n",
    "from sklearn.metrics import accuracy_score"
   ]
  },
  {
   "cell_type": "markdown",
   "metadata": {},
   "source": [
    "<h1>Read Data</h1>"
   ]
  },
  {
   "cell_type": "code",
   "execution_count": 2,
   "metadata": {},
   "outputs": [],
   "source": [
    "path = \"aclImdb/\"\n",
    "'''train_positive_files=[]\n",
    "for file in os.listdir(path+\"train/pos/\"):\n",
    "    train_positive_files.append(file)\n",
    "'''\n",
    "train_positive_files = [i for i in os.listdir(path+\"train/pos/\")]\n",
    "train_negative_files = [i for i in os.listdir(path+\"train/neg/\")]\n",
    "\n",
    "\n",
    "test_positive_files = [i for i in os.listdir(path+\"test/pos/\")]\n",
    "test_negative_files = [i for i in os.listdir(path+\"test/neg/\")]\n",
    "\n",
    "positive_reviews_train, negative_reviews_train,positive_reviews_test, negative_reviews_test = [], [], [], []\n",
    "\n",
    "for pfile in train_positive_files :\n",
    "    with open(path+\"train/pos/\"+pfile, encoding=\"latin1\") as f:\n",
    "        positive_reviews_train.append(f.read())\n",
    "for nfile in train_negative_files:\n",
    "    with open(path+\"train/neg/\"+nfile, encoding=\"latin1\") as f:\n",
    "        negative_reviews_train.append(f.read())\n",
    "        \n",
    "for pfile in test_positive_files :\n",
    "    with open(path+\"test/pos/\"+pfile, encoding=\"latin1\") as f:\n",
    "        positive_reviews_test.append(f.read())\n",
    "for nfile in test_negative_files:\n",
    "    with open(path+\"test/neg/\"+nfile, encoding=\"latin1\") as f:\n",
    "        negative_reviews_test.append(f.read())\n",
    "\n",
    "reviews_train = pd.concat([\n",
    "    pd.DataFrame({\"review\":positive_reviews_train, \"label\":1}),\n",
    "    pd.DataFrame({\"review\":negative_reviews_train, \"label\":0}),\n",
    "], ignore_index=True).sample(frac=1, random_state=1)\n",
    "    \n",
    "reviews_test = pd.concat([\n",
    "    pd.DataFrame({\"review\":positive_reviews_test, \"label\":1}),\n",
    "    pd.DataFrame({\"review\":negative_reviews_test, \"label\":0}),\n",
    "], ignore_index=True).sample(frac=1, random_state=1)"
   ]
  },
  {
   "cell_type": "code",
   "execution_count": 3,
   "metadata": {},
   "outputs": [],
   "source": [
    "import re # import regular expression package\n",
    "from contractions import contractions\n",
    "\n",
    "REPLACE_NO_SPACE = re.compile(\"[.;:!\\'?,\\\"()\\[\\]]\") # patterns to replace with no space\n",
    "\n",
    "REPLACE_WITH_SPACE = re.compile(\"(<br\\s*/><br\\s*/>)|(\\-)|(\\/)\") # patterns to replace with white spaces\n",
    "\n",
    "# method to process reviews\n",
    "def process_reviews(reviews):\n",
    "\n",
    "    for w in contractions:\n",
    "        reviews = reviews.replace(w, contractions[w])    \n",
    "        \n",
    "    reviews = reviews.replace([\"[.;:!\\'?,\\\"()\\[\\]]\"], [\"\"], regex=True)\n",
    "    \n",
    "    reviews = reviews.replace([\"(<br\\s*/><br\\s*/>)|(\\-)|(\\/)\"], [\" \"], regex=True)\n",
    "\n",
    "    return reviews\n",
    "\n",
    "# cleaned training dataset.\n",
    "reviews_train_clean = process_reviews(reviews_train)\n",
    "\n",
    "# cleaned testing dataset\n",
    "reviews_test_clean = process_reviews(reviews_test)"
   ]
  },
  {
   "cell_type": "code",
   "execution_count": 4,
   "metadata": {},
   "outputs": [],
   "source": [
    "X_train=reviews_train_clean.iloc[:, 0]\n",
    "Y_train=reviews_train_clean.iloc[:, 1]\n",
    "X_test=reviews_test_clean.iloc[:, 0]\n",
    "Y_test=reviews_test_clean.iloc[:, 1]"
   ]
  },
  {
   "cell_type": "markdown",
   "metadata": {},
   "source": [
    "<h1>Vectorization</h1>"
   ]
  },
  {
   "cell_type": "code",
   "execution_count": 5,
   "metadata": {},
   "outputs": [],
   "source": [
    "from sklearn.feature_extraction.text import TfidfVectorizer # import Tfidf Vectorizer from sklearn.\n",
    "\n",
    "stop_words = ['in', 'of', 'at', 'a', 'the']\n",
    "cv = TfidfVectorizer(binary=True, ngram_range=(1, 3), stop_words=stop_words) # instantiate counter vector with binary flag set to true.\n",
    "\n",
    "cv.fit(X_train) # fits the vocabulary.\n",
    "\n",
    "X_train = cv.transform(X_train) # transforms the document into document-matrix using the fitted vocabulary.\n",
    "\n",
    "X_test = cv.transform(X_test)"
   ]
  },
  {
   "cell_type": "markdown",
   "metadata": {},
   "source": [
    "<h1>Build Model</h1>"
   ]
  },
  {
   "cell_type": "markdown",
   "metadata": {},
   "source": [
    "<h2>Logistic Regression</h2>"
   ]
  },
  {
   "cell_type": "code",
   "execution_count": 6,
   "metadata": {},
   "outputs": [
    {
     "name": "stderr",
     "output_type": "stream",
     "text": [
      "C:\\Users\\rubal\\Anaconda3\\lib\\site-packages\\sklearn\\linear_model\\logistic.py:432: FutureWarning: Default solver will be changed to 'lbfgs' in 0.22. Specify a solver to silence this warning.\n",
      "  FutureWarning)\n"
     ]
    },
    {
     "name": "stdout",
     "output_type": "stream",
     "text": [
      "Accuracy for C=0.01: 0.85472\n",
      "Accuracy for C=0.05: 0.85928\n",
      "Accuracy for C=0.25: 0.8732\n",
      "Accuracy for C=0.5: 0.88064\n",
      "Accuracy for C=1: 0.88896\n"
     ]
    }
   ],
   "source": [
    "from sklearn.linear_model import LogisticRegression\n",
    "\n",
    "for c in [0.01, 0.05, 0.25, 0.5, 1]:\n",
    "\n",
    "    lr = LogisticRegression(C=c)\n",
    "\n",
    "    lr.fit(X_train, Y_train)\n",
    "\n",
    "    print (\"Accuracy for C=%s: %s\" % (c, accuracy_score(Y_test, lr.predict(X_test))))\n",
    "    "
   ]
  },
  {
   "cell_type": "code",
   "execution_count": 7,
   "metadata": {},
   "outputs": [],
   "source": [
    "final_model_lr = LogisticRegression(C=1)\n",
    "final_model_lr.fit(X_train, Y_train)\n",
    "\n",
    "lr_pred = final_model_lr.predict(X_test)"
   ]
  },
  {
   "cell_type": "markdown",
   "metadata": {},
   "source": [
    "<h2>SVM</h2>"
   ]
  },
  {
   "cell_type": "code",
   "execution_count": 9,
   "metadata": {},
   "outputs": [
    {
     "name": "stdout",
     "output_type": "stream",
     "text": [
      "Accuracy for C=0.01: 0.86224\n",
      "Accuracy for C=0.05: 0.87948\n",
      "Accuracy for C=0.25: 0.89948\n",
      "Accuracy for C=0.5: 0.90492\n",
      "Accuracy for C=1: 0.90724\n",
      "Accuracy for C=1.05: 0.90716\n"
     ]
    }
   ],
   "source": [
    "for c in [0.01, 0.05, 0.25, 0.5, 1, 1.05]:\n",
    "    svm = LinearSVC(C=c)\n",
    "    svm.fit(X_train, Y_train)\n",
    "    print (\"Accuracy for C=%s: %s\" % (c, accuracy_score(Y_test, svm.predict(X_test))))"
   ]
  },
  {
   "cell_type": "code",
   "execution_count": 10,
   "metadata": {},
   "outputs": [],
   "source": [
    "final_svm = LinearSVC(C=1)\n",
    "final_svm.fit(X_train, Y_train)\n",
    "\n",
    "svm_pred = final_svm.predict(X_test)"
   ]
  },
  {
   "cell_type": "markdown",
   "metadata": {},
   "source": [
    "<h2>Random Forest Refressor</h2>"
   ]
  },
  {
   "cell_type": "code",
   "execution_count": 10,
   "metadata": {},
   "outputs": [
    {
     "data": {
      "text/plain": [
       "\"grid_param = {\\n    'n_estimators': [100, 300, 500, 800, 1000],\\n    'max_depth': [5, 10, 15],\\n    'max_features': [None, 'sqrt', 'log2', 'auto']\\n}\\n\\n# creating grid search instance to choose from best hyper-parameters\\ngd_sr = GridSearchCV(estimator=RandomForestClassifier(), param_grid=grid_param, scoring='accuracy', cv=5, n_jobs=-1)\\ngd_sr.fit(X_train, Y_train)\\nbest_parameters = gd_sr.best_params_\\nprint(best_parameters)\""
      ]
     },
     "execution_count": 10,
     "metadata": {},
     "output_type": "execute_result"
    }
   ],
   "source": [
    "#from sklearn.model_selection import GridSearchCV\n",
    "# defining set of hyper-parameters\n",
    "'''grid_param = {\n",
    "    'n_estimators': [100, 300, 500, 800, 1000],\n",
    "    'max_depth': [5, 10, 15],\n",
    "    'max_features': [None, 'sqrt', 'log2', 'auto']\n",
    "}\n",
    "\n",
    "# creating grid search instance to choose from best hyper-parameters\n",
    "gd_sr = GridSearchCV(estimator=RandomForestClassifier(), param_grid=grid_param, scoring='accuracy', cv=5, n_jobs=-1)\n",
    "gd_sr.fit(X_train, Y_train)\n",
    "best_parameters = gd_sr.best_params_\n",
    "print(best_parameters)'''"
   ]
  },
  {
   "cell_type": "code",
   "execution_count": 11,
   "metadata": {},
   "outputs": [
    {
     "data": {
      "text/plain": [
       "RandomForestClassifier(bootstrap=True, class_weight=None, criterion='gini',\n",
       "                       max_depth=15, max_features='auto', max_leaf_nodes=None,\n",
       "                       min_impurity_decrease=0.0, min_impurity_split=None,\n",
       "                       min_samples_leaf=1, min_samples_split=2,\n",
       "                       min_weight_fraction_leaf=0.0, n_estimators=500,\n",
       "                       n_jobs=None, oob_score=False, random_state=None,\n",
       "                       verbose=0, warm_start=False)"
      ]
     },
     "execution_count": 11,
     "metadata": {},
     "output_type": "execute_result"
    }
   ],
   "source": [
    "rf_reg = RandomForestClassifier(max_depth=15, n_estimators = 500)\n",
    "rf_reg.fit(X_train, Y_train)"
   ]
  },
  {
   "cell_type": "code",
   "execution_count": 12,
   "metadata": {},
   "outputs": [],
   "source": [
    "rf_pred = rf_reg.predict(X_test)"
   ]
  },
  {
   "cell_type": "markdown",
   "metadata": {},
   "source": [
    "<h1>Evaluate</h1>"
   ]
  },
  {
   "cell_type": "markdown",
   "metadata": {},
   "source": [
    "<h2>Logistic Regression</h2>"
   ]
  },
  {
   "cell_type": "code",
   "execution_count": 13,
   "metadata": {},
   "outputs": [
    {
     "data": {
      "text/plain": [
       "0.88896"
      ]
     },
     "execution_count": 13,
     "metadata": {},
     "output_type": "execute_result"
    }
   ],
   "source": [
    "accuracy_score(Y_test, lr_pred)"
   ]
  },
  {
   "cell_type": "markdown",
   "metadata": {},
   "source": [
    "<h2>SVM</h2>"
   ]
  },
  {
   "cell_type": "code",
   "execution_count": 12,
   "metadata": {},
   "outputs": [
    {
     "data": {
      "text/plain": [
       "0.90724"
      ]
     },
     "execution_count": 12,
     "metadata": {},
     "output_type": "execute_result"
    }
   ],
   "source": [
    "accuracy_score(Y_test, svm_pred)"
   ]
  },
  {
   "cell_type": "markdown",
   "metadata": {},
   "source": [
    "<h2>Random Forest</h2>"
   ]
  },
  {
   "cell_type": "code",
   "execution_count": 15,
   "metadata": {},
   "outputs": [
    {
     "data": {
      "text/plain": [
       "0.8438"
      ]
     },
     "execution_count": 15,
     "metadata": {},
     "output_type": "execute_result"
    }
   ],
   "source": [
    "accuracy_score(Y_test, rf_pred)"
   ]
  },
  {
   "cell_type": "markdown",
   "metadata": {},
   "source": [
    "<h1>Visualisations</h1>"
   ]
  },
  {
   "cell_type": "code",
   "execution_count": 22,
   "metadata": {},
   "outputs": [
    {
     "name": "stdout",
     "output_type": "stream",
     "text": [
      "('great', 4.78118121798795)\n",
      "('excellent', 3.9878579570969688)\n",
      "('best', 3.2510975264963173)\n",
      "('perfect', 3.1798380275118143)\n",
      "('wonderful', 3.0711334803054102)\n",
      "('worst', -5.928260057874241)\n",
      "('bad', -5.521375081641591)\n",
      "('awful', -4.2397671585829615)\n",
      "('boring', -3.759927413589188)\n",
      "('poor', -3.710279211566409)\n"
     ]
    }
   ],
   "source": [
    "feature_to_coef = {\n",
    "\n",
    "    word: coef for word, coef in zip(\n",
    "\n",
    "        cv.get_feature_names(), final_svm.coef_[0]\n",
    "\n",
    "    )\n",
    "\n",
    "}\n",
    "\n",
    "pos_arr=[]\n",
    "neg_arr=[]\n",
    "for best_positive in sorted(\n",
    "\n",
    "    feature_to_coef.items(), \n",
    "\n",
    "    key=lambda x: x[1], \n",
    "\n",
    "    reverse=True)[:5]:\n",
    "    \n",
    "    pos_arr.extend(best_positive)\n",
    "    print (best_positive)\n",
    "    \n",
    "for best_negative in sorted(\n",
    "\n",
    "    feature_to_coef.items(), \n",
    "\n",
    "    key=lambda x: x[1])[:5]:\n",
    "\n",
    "    neg_arr.extend(best_negative)\n",
    "    print (best_negative)"
   ]
  },
  {
   "cell_type": "code",
   "execution_count": 23,
   "metadata": {},
   "outputs": [
    {
     "data": {
      "text/plain": [
       "[4.78118121798795,\n",
       " 3.9878579570969688,\n",
       " 3.2510975264963173,\n",
       " 3.1798380275118143,\n",
       " 3.0711334803054102]"
      ]
     },
     "execution_count": 23,
     "metadata": {},
     "output_type": "execute_result"
    }
   ],
   "source": [
    "x_axis=[]\n",
    "x_axis.append(pos_arr[0])\n",
    "x_axis.append(pos_arr[2])\n",
    "x_axis.append(pos_arr[4])\n",
    "x_axis.append(pos_arr[6])\n",
    "x_axis.append(pos_arr[8])\n",
    "x_axis\n",
    "y_axis=[]\n",
    "y_axis.append(pos_arr[1])\n",
    "y_axis.append(pos_arr[3])\n",
    "y_axis.append(pos_arr[5])\n",
    "y_axis.append(pos_arr[7])\n",
    "y_axis.append(pos_arr[9])\n",
    "y_axis"
   ]
  },
  {
   "cell_type": "code",
   "execution_count": 24,
   "metadata": {},
   "outputs": [
    {
     "data": {
      "text/plain": [
       "[-5.928260057874241,\n",
       " -5.521375081641591,\n",
       " -4.2397671585829615,\n",
       " -3.759927413589188,\n",
       " -3.710279211566409]"
      ]
     },
     "execution_count": 24,
     "metadata": {},
     "output_type": "execute_result"
    }
   ],
   "source": [
    "xn_axis=[]\n",
    "xn_axis.append(neg_arr[0])\n",
    "xn_axis.append(neg_arr[2])\n",
    "xn_axis.append(neg_arr[4])\n",
    "xn_axis.append(neg_arr[6])\n",
    "xn_axis.append(neg_arr[8])\n",
    "xn_axis\n",
    "yn_axis=[]\n",
    "yn_axis.append(neg_arr[1])\n",
    "yn_axis.append(neg_arr[3])\n",
    "yn_axis.append(neg_arr[5])\n",
    "yn_axis.append(neg_arr[7])\n",
    "yn_axis.append(neg_arr[9])\n",
    "yn_axis"
   ]
  },
  {
   "cell_type": "code",
   "execution_count": 25,
   "metadata": {},
   "outputs": [
    {
     "data": {
      "image/png": "[encoded data removed]",
      "text/plain": [
       "<Figure size 1900x300 with 3 Axes>"
      ]
     },
     "metadata": {},
     "output_type": "display_data"
    }
   ],
   "source": [
    "import matplotlib.pyplot as plt; plt.rcdefaults()\n",
    "import numpy as np\n",
    "import matplotlib.pyplot as plt\n",
    "\n",
    "plt.figure(figsize=(19, 3))\n",
    "\n",
    "plt.subplot(131)\n",
    "plt.bar(x_axis, y_axis)\n",
    "plt.subplot(132)\n",
    "plt.scatter(x_axis, y_axis)\n",
    "plt.subplot(133)\n",
    "plt.plot(x_axis, y_axis)\n",
    "plt.suptitle('Best Positives')\n",
    "plt.show()"
   ]
  },
  {
   "cell_type": "code",
   "execution_count": 26,
   "metadata": {},
   "outputs": [
    {
     "data": {
      "image/png": "[encoded data removed]",
      "text/plain": [
       "<Figure size 1900x300 with 3 Axes>"
      ]
     },
     "metadata": {},
     "output_type": "display_data"
    }
   ],
   "source": [
    "plt.figure(figsize=(19, 3))\n",
    "\n",
    "plt.subplot(131)\n",
    "plt.bar(xn_axis, yn_axis)\n",
    "plt.subplot(132)\n",
    "plt.scatter(xn_axis, yn_axis)\n",
    "plt.subplot(133)\n",
    "plt.plot(xn_axis, yn_axis)\n",
    "plt.suptitle('Best Negatives')\n",
    "plt.show()"
   ]
  },
  {
   "cell_type": "markdown",
   "metadata": {},
   "source": [
    "<h2>Learning Curves</h2>"
   ]
  },
  {
   "cell_type": "code",
   "execution_count": 19,
   "metadata": {},
   "outputs": [
    {
     "name": "stderr",
     "output_type": "stream",
     "text": [
      "C:\\Users\\rubal\\Anaconda3\\lib\\site-packages\\sklearn\\model_selection\\_split.py:1978: FutureWarning: The default value of cv will change from 3 to 5 in version 0.22. Specify it explicitly to silence this warning.\n",
      "  warnings.warn(CV_WARNING, FutureWarning)\n",
      "C:\\Users\\rubal\\Anaconda3\\lib\\site-packages\\sklearn\\linear_model\\logistic.py:432: FutureWarning: Default solver will be changed to 'lbfgs' in 0.22. Specify a solver to silence this warning.\n",
      "  FutureWarning)\n"
     ]
    },
    {
     "data": {
      "image/png": "[encoded data removed]",
      "text/plain": [
       "<Figure size 432x288 with 1 Axes>"
      ]
     },
     "metadata": {
      "needs_background": "light"
     },
     "output_type": "display_data"
    }
   ],
   "source": [
    "from sklearn.model_selection import learning_curve\n",
    "import numpy as np\n",
    "import matplotlib.pyplot as plt\n",
    "\n",
    "# Create CV training and test scores for various training set sizes\n",
    "train_sizes, train_scores, test_scores = learning_curve(LogisticRegression(), X_train, Y_train)\n",
    "\n",
    "# Create means and standard deviations of training set scores\n",
    "train_mean = np.mean(train_scores, axis=1)\n",
    "train_std = np.std(train_scores, axis=1)\n",
    "\n",
    "# Create means and standard deviations of test set scores\n",
    "test_mean = np.mean(test_scores, axis=1)\n",
    "test_std = np.std(test_scores, axis=1)\n",
    "\n",
    "# Draw lines\n",
    "plt.plot(train_sizes, train_mean, '--',  label=\"Training score\")\n",
    "plt.plot(train_sizes, test_mean,  label=\"Cross-validation score\")\n",
    "\n",
    "# Draw bands\n",
    "plt.fill_between(train_sizes, train_mean - train_std, train_mean + train_std, color=\"#DDDDDD\")\n",
    "plt.fill_between(train_sizes, test_mean - test_std, test_mean + test_std, color=\"#DDDDDD\")\n",
    "\n",
    "# Create plot\n",
    "plt.title(\"Learning Curve\")\n",
    "plt.xlabel(\"Training Set Size\"), plt.ylabel(\"Accuracy Score\"), plt.legend(loc=\"best\")\n",
    "plt.tight_layout()\n",
    "plt.show()"
   ]
  },
  {
   "cell_type": "code",
   "execution_count": 20,
   "metadata": {},
   "outputs": [
    {
     "name": "stderr",
     "output_type": "stream",
     "text": [
      "C:\\Users\\rubal\\Anaconda3\\lib\\site-packages\\sklearn\\model_selection\\_split.py:1978: FutureWarning: The default value of cv will change from 3 to 5 in version 0.22. Specify it explicitly to silence this warning.\n",
      "  warnings.warn(CV_WARNING, FutureWarning)\n"
     ]
    },
    {
     "data": {
      "image/png": "[encoded data removed]",
      "text/plain": [
       "<Figure size 432x288 with 1 Axes>"
      ]
     },
     "metadata": {
      "needs_background": "light"
     },
     "output_type": "display_data"
    }
   ],
   "source": [
    "# Create CV training and test scores for various training set sizes\n",
    "train_sizes, train_scores, test_scores = learning_curve(LinearSVC(), X_train, Y_train)\n",
    "\n",
    "# Create means and standard deviations of training set scores\n",
    "train_mean = np.mean(train_scores, axis=1)\n",
    "train_std = np.std(train_scores, axis=1)\n",
    "\n",
    "# Create means and standard deviations of test set scores\n",
    "test_mean = np.mean(test_scores, axis=1)\n",
    "test_std = np.std(test_scores, axis=1)\n",
    "\n",
    "# Draw lines\n",
    "plt.plot(train_sizes, train_mean, '--',  label=\"Training score\")\n",
    "plt.plot(train_sizes, test_mean,  label=\"Cross-validation score\")\n",
    "\n",
    "# Draw bands\n",
    "plt.fill_between(train_sizes, train_mean - train_std, train_mean + train_std, color=\"#DDDDDD\")\n",
    "plt.fill_between(train_sizes, test_mean - test_std, test_mean + test_std, color=\"#DDDDDD\")\n",
    "\n",
    "# Create plot\n",
    "plt.title(\"Learning Curve\")\n",
    "plt.xlabel(\"Training Set Size\"), plt.ylabel(\"Accuracy Score\"), plt.legend(loc=\"best\")\n",
    "plt.tight_layout()\n",
    "plt.show()"
   ]
  },
  {
   "cell_type": "code",
   "execution_count": 21,
   "metadata": {},
   "outputs": [
    {
     "name": "stderr",
     "output_type": "stream",
     "text": [
      "C:\\Users\\rubal\\Anaconda3\\lib\\site-packages\\sklearn\\model_selection\\_split.py:1978: FutureWarning: The default value of cv will change from 3 to 5 in version 0.22. Specify it explicitly to silence this warning.\n",
      "  warnings.warn(CV_WARNING, FutureWarning)\n",
      "C:\\Users\\rubal\\Anaconda3\\lib\\site-packages\\sklearn\\ensemble\\forest.py:245: FutureWarning: The default value of n_estimators will change from 10 in version 0.20 to 100 in 0.22.\n",
      "  \"10 in version 0.20 to 100 in 0.22.\", FutureWarning)\n",
      "C:\\Users\\rubal\\Anaconda3\\lib\\site-packages\\sklearn\\ensemble\\forest.py:245: FutureWarning: The default value of n_estimators will change from 10 in version 0.20 to 100 in 0.22.\n",
      "  \"10 in version 0.20 to 100 in 0.22.\", FutureWarning)\n",
      "C:\\Users\\rubal\\Anaconda3\\lib\\site-packages\\sklearn\\ensemble\\forest.py:245: FutureWarning: The default value of n_estimators will change from 10 in version 0.20 to 100 in 0.22.\n",
      "  \"10 in version 0.20 to 100 in 0.22.\", FutureWarning)\n",
      "C:\\Users\\rubal\\Anaconda3\\lib\\site-packages\\sklearn\\ensemble\\forest.py:245: FutureWarning: The default value of n_estimators will change from 10 in version 0.20 to 100 in 0.22.\n",
      "  \"10 in version 0.20 to 100 in 0.22.\", FutureWarning)\n",
      "C:\\Users\\rubal\\Anaconda3\\lib\\site-packages\\sklearn\\ensemble\\forest.py:245: FutureWarning: The default value of n_estimators will change from 10 in version 0.20 to 100 in 0.22.\n",
      "  \"10 in version 0.20 to 100 in 0.22.\", FutureWarning)\n",
      "C:\\Users\\rubal\\Anaconda3\\lib\\site-packages\\sklearn\\ensemble\\forest.py:245: FutureWarning: The default value of n_estimators will change from 10 in version 0.20 to 100 in 0.22.\n",
      "  \"10 in version 0.20 to 100 in 0.22.\", FutureWarning)\n",
      "C:\\Users\\rubal\\Anaconda3\\lib\\site-packages\\sklearn\\ensemble\\forest.py:245: FutureWarning: The default value of n_estimators will change from 10 in version 0.20 to 100 in 0.22.\n",
      "  \"10 in version 0.20 to 100 in 0.22.\", FutureWarning)\n",
      "C:\\Users\\rubal\\Anaconda3\\lib\\site-packages\\sklearn\\ensemble\\forest.py:245: FutureWarning: The default value of n_estimators will change from 10 in version 0.20 to 100 in 0.22.\n",
      "  \"10 in version 0.20 to 100 in 0.22.\", FutureWarning)\n",
      "C:\\Users\\rubal\\Anaconda3\\lib\\site-packages\\sklearn\\ensemble\\forest.py:245: FutureWarning: The default value of n_estimators will change from 10 in version 0.20 to 100 in 0.22.\n",
      "  \"10 in version 0.20 to 100 in 0.22.\", FutureWarning)\n",
      "C:\\Users\\rubal\\Anaconda3\\lib\\site-packages\\sklearn\\ensemble\\forest.py:245: FutureWarning: The default value of n_estimators will change from 10 in version 0.20 to 100 in 0.22.\n",
      "  \"10 in version 0.20 to 100 in 0.22.\", FutureWarning)\n",
      "C:\\Users\\rubal\\Anaconda3\\lib\\site-packages\\sklearn\\ensemble\\forest.py:245: FutureWarning: The default value of n_estimators will change from 10 in version 0.20 to 100 in 0.22.\n",
      "  \"10 in version 0.20 to 100 in 0.22.\", FutureWarning)\n",
      "C:\\Users\\rubal\\Anaconda3\\lib\\site-packages\\sklearn\\ensemble\\forest.py:245: FutureWarning: The default value of n_estimators will change from 10 in version 0.20 to 100 in 0.22.\n",
      "  \"10 in version 0.20 to 100 in 0.22.\", FutureWarning)\n",
      "C:\\Users\\rubal\\Anaconda3\\lib\\site-packages\\sklearn\\ensemble\\forest.py:245: FutureWarning: The default value of n_estimators will change from 10 in version 0.20 to 100 in 0.22.\n",
      "  \"10 in version 0.20 to 100 in 0.22.\", FutureWarning)\n",
      "C:\\Users\\rubal\\Anaconda3\\lib\\site-packages\\sklearn\\ensemble\\forest.py:245: FutureWarning: The default value of n_estimators will change from 10 in version 0.20 to 100 in 0.22.\n",
      "  \"10 in version 0.20 to 100 in 0.22.\", FutureWarning)\n",
      "C:\\Users\\rubal\\Anaconda3\\lib\\site-packages\\sklearn\\ensemble\\forest.py:245: FutureWarning: The default value of n_estimators will change from 10 in version 0.20 to 100 in 0.22.\n",
      "  \"10 in version 0.20 to 100 in 0.22.\", FutureWarning)\n"
     ]
    },
    {
     "data": {
      "image/png": "[encoded data removed]",
      "text/plain": [
       "<Figure size 432x288 with 1 Axes>"
      ]
     },
     "metadata": {
      "needs_background": "light"
     },
     "output_type": "display_data"
    }
   ],
   "source": [
    "# Create CV training and test scores for various training set sizes\n",
    "train_sizes, train_scores, test_scores = learning_curve(RandomForestClassifier(), X_train, Y_train)\n",
    "\n",
    "# Create means and standard deviations of training set scores\n",
    "train_mean = np.mean(train_scores, axis=1)\n",
    "train_std = np.std(train_scores, axis=1)\n",
    "\n",
    "# Create means and standard deviations of test set scores\n",
    "test_mean = np.mean(test_scores, axis=1)\n",
    "test_std = np.std(test_scores, axis=1)\n",
    "\n",
    "# Draw lines\n",
    "plt.plot(train_sizes, train_mean, '--',  label=\"Training score\")\n",
    "plt.plot(train_sizes, test_mean,  label=\"Cross-validation score\")\n",
    "\n",
    "# Draw bands\n",
    "plt.fill_between(train_sizes, train_mean - train_std, train_mean + train_std, color=\"#DDDDDD\")\n",
    "plt.fill_between(train_sizes, test_mean - test_std, test_mean + test_std, color=\"#DDDDDD\")\n",
    "\n",
    "# Create plot\n",
    "plt.title(\"Learning Curve\")\n",
    "plt.xlabel(\"Training Set Size\"), plt.ylabel(\"Accuracy Score\"), plt.legend(loc=\"best\")\n",
    "plt.tight_layout()\n",
    "plt.show()"
   ]
  },
  {
   "cell_type": "code",
   "execution_count": 16,
   "metadata": {},
   "outputs": [],
   "source": [
    "def predict_sentiment_svm(sent, saved_model):\n",
    "    sent_cleaned = process_reviews(sent)\n",
    "    X = cv.transform(sent_cleaned.iloc[:,0])\n",
    "    #print(X)\n",
    "    Y_pred = saved_model.predict(X)\n",
    "    print(\"\\n********** SVM **********\")\n",
    "    if Y_pred[0] == 0:\n",
    "        print(\"It has Negative sentiment in it :(\")\n",
    "    else:\n",
    "        print(\"It has Positive sentiment in it :)\")"
   ]
  },
  {
   "cell_type": "code",
   "execution_count": 21,
   "metadata": {},
   "outputs": [],
   "source": [
    "def predict_sentiment_lr(sent):\n",
    "    sent_cleaned = process_reviews(sent)\n",
    "    X = cv.transform(sent_cleaned.iloc[:,0])\n",
    "    Y_pred = final_model_lr.predict(X)\n",
    "    print(\"\\n********** Logistic Regression **********\")\n",
    "    if Y_pred[0] == 0:\n",
    "        print(\"It has Negative sentiment in it :(\")\n",
    "    else:\n",
    "        print(\"It has Positive sentiment in it :)\")"
   ]
  },
  {
   "cell_type": "code",
   "execution_count": 22,
   "metadata": {},
   "outputs": [],
   "source": [
    "def predict_sentiment_rf(sent):\n",
    "    sent_cleaned = process_reviews(sent)\n",
    "    X = cv.transform(sent_cleaned.iloc[:,0])\n",
    "    Y_pred = rf_reg.predict(X)\n",
    "    print(\"\\n********** Random Forest **********\")\n",
    "    if Y_pred[0] == 0:\n",
    "        print(\"It has Negative sentiment in it :(\")\n",
    "    else:\n",
    "        print(\"It has Positive sentiment in it :)\")"
   ]
  },
  {
   "cell_type": "code",
   "execution_count": 30,
   "metadata": {},
   "outputs": [
    {
     "name": "stdout",
     "output_type": "stream",
     "text": [
      "Enter the sample review to predict the sentiment out of it \n",
      "his is a film I admired more than I liked... I just found the film to be too hyper-staged and too artfully constructed to make an emotional connection\n",
      "\n",
      "********** SVM **********\n",
      "It has Positive sentiment in it :)\n",
      "\n",
      "********** Logistic Regression **********\n",
      "It has Positive sentiment in it :)\n",
      "\n",
      "********** Random Forest **********\n",
      "It has Positive sentiment in it :)\n"
     ]
    }
   ],
   "source": [
    "review = input(\"Enter the sample review to predict the sentiment out of it \\n\")\n",
    "\n",
    "predict_sentiment_svm(pd.DataFrame([[review]]))\n",
    "\n",
    "#predict_sentiment_lr(pd.DataFrame([[review]]))\n",
    "\n",
    "#predict_sentiment_rf(pd.DataFrame([[review]]))"
   ]
  },
  {
   "cell_type": "markdown",
   "metadata": {},
   "source": [
    "<h1>Saving Modle</h1>"
   ]
  },
  {
   "cell_type": "code",
   "execution_count": 13,
   "metadata": {},
   "outputs": [],
   "source": [
    "import pickle\n",
    "\n",
    "filename = 'cap-sentm-imdb.pkl'\n",
    "pickle.dump(final_svm, open(filename, 'wb')) # saving the final model"
   ]
  },
  {
   "cell_type": "code",
   "execution_count": 14,
   "metadata": {},
   "outputs": [
    {
     "name": "stdout",
     "output_type": "stream",
     "text": [
      "0.90724\n"
     ]
    }
   ],
   "source": [
    "saved_model = pickle.load(open(filename, 'rb'))\n",
    "result = saved_model.score(X_test, Y_test)\n",
    "print(result)"
   ]
  },
  {
   "cell_type": "markdown",
   "metadata": {},
   "source": [
    "<h1>DEMO</h1>"
   ]
  },
  {
   "cell_type": "code",
   "execution_count": 18,
   "metadata": {},
   "outputs": [
    {
     "name": "stdout",
     "output_type": "stream",
     "text": [
      "Enter the sample review to predict the sentiment out of it \n",
      "it's not a bad movie\n",
      "\n",
      "********** SVM **********\n",
      "It has Negative sentiment in it :(\n"
     ]
    }
   ],
   "source": [
    "review = input(\"Enter the sample review to predict the sentiment out of it \\n\")\n",
    "\n",
    "predict_sentiment_svm(pd.DataFrame([[review]]), saved_model)"
   ]
  },
  {
   "cell_type": "code",
   "execution_count": null,
   "metadata": {},
   "outputs": [],
   "source": []
  }
 ],
 "metadata": {
  "kernelspec": {
   "display_name": "Python 3",
   "language": "python",
   "name": "python3"
  },
  "language_info": {
   "codemirror_mode": {
    "name": "ipython",
    "version": 3
   },
   "file_extension": ".py",
   "mimetype": "text/x-python",
   "name": "python",
   "nbconvert_exporter": "python",
   "pygments_lexer": "ipython3",
   "version": "3.7.4"
  }
 },
 "nbformat": 4,
 "nbformat_minor": 2
}
